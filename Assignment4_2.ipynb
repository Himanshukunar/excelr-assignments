{
  "nbformat": 4,
  "nbformat_minor": 0,
  "metadata": {
    "colab": {
      "provenance": [],
      "authorship_tag": "ABX9TyNynQH44Z72paRrZoroBjF4",
      "include_colab_link": true
    },
    "kernelspec": {
      "name": "python3",
      "display_name": "Python 3"
    },
    "language_info": {
      "name": "python"
    }
  },
  "cells": [
    {
      "cell_type": "markdown",
      "metadata": {
        "id": "view-in-github",
        "colab_type": "text"
      },
      "source": [
        "<a href=\"https://colab.research.google.com/github/Himanshukunar/excelr-assignments/blob/main/Assignment4_2.ipynb\" target=\"_parent\"><img src=\"https://colab.research.google.com/assets/colab-badge.svg\" alt=\"Open In Colab\"/></a>"
      ]
    },
    {
      "cell_type": "code",
      "execution_count": null,
      "metadata": {
        "colab": {
          "base_uri": "https://localhost:8080/"
        },
        "id": "ARCb7PBlSse7",
        "outputId": "c5ba8bc9-31e0-4467-d975-584a1636cf3f"
      },
      "outputs": [
        {
          "output_type": "stream",
          "name": "stdout",
          "text": [
            "Step 1: State the Hypotheses\n",
            "Null Hypothesis H0: μ = 1000 + 5*600 = Rs. 4000 (no increase in cost)\n",
            "Alternative Hypothesis H1: μ > Rs. 4000 (cost has increased)\n"
          ]
        }
      ],
      "source": [
        "print(\"Step 1: State the Hypotheses\")\n",
        "print(\"Null Hypothesis H0: μ = 1000 + 5*600 = Rs. 4000 (no increase in cost)\")\n",
        "print(\"Alternative Hypothesis H1: μ > Rs. 4000 (cost has increased)\")\n"
      ]
    },
    {
      "cell_type": "code",
      "source": [
        "import math\n",
        "sample_mean = 3050\n",
        "X_mean = 600\n",
        "std_X = 25\n",
        "n = 25\n",
        "mu = 1000 + 5 * X_mean  # 1000 + 5*600 = 4000\n",
        "sigma = 5 * std_X  # 5 * 25 = 125\n",
        "standard_error = sigma / math.sqrt(n)\n",
        "z = (sample_mean - mu) / standard_error\n",
        "\n",
        "print(\"\\nStep 2: Calculate the Test Statistic\")\n",
        "print(f\"Standard Error = {standard_error}\")\n",
        "print(f\"Z = ({sample_mean} - {mu}) / {standard_error} = {z:.2f}\")\n"
      ],
      "metadata": {
        "colab": {
          "base_uri": "https://localhost:8080/"
        },
        "id": "Ymwxyh0kS2Mq",
        "outputId": "c57efe40-ee94-4ae7-a031-6154efd90b20"
      },
      "execution_count": null,
      "outputs": [
        {
          "output_type": "stream",
          "name": "stdout",
          "text": [
            "\n",
            "Step 2: Calculate the Test Statistic\n",
            "Standard Error = 25.0\n",
            "Z = (3050 - 4000) / 25.0 = -38.00\n"
          ]
        }
      ]
    },
    {
      "cell_type": "code",
      "source": [
        "import scipy.stats as stats\n",
        "\n",
        "alpha = 0.05\n",
        "z_critical = stats.norm.ppf(1 - alpha)\n",
        "\n",
        "print(\"\\nStep 3: Determine the Critical Value\")\n",
        "print(f\"Critical Z value at 5% significance level = {z_critical:.2f}\")\n"
      ],
      "metadata": {
        "colab": {
          "base_uri": "https://localhost:8080/"
        },
        "id": "03Vb9_XMS5RI",
        "outputId": "25c03037-c2fa-471b-e75a-1229d914bbb4"
      },
      "execution_count": null,
      "outputs": [
        {
          "output_type": "stream",
          "name": "stdout",
          "text": [
            "\n",
            "Step 3: Determine the Critical Value\n",
            "Critical Z value at 5% significance level = 1.64\n"
          ]
        }
      ]
    },
    {
      "cell_type": "code",
      "source": [
        "print(\"\\nStep 4: Make a Decision\")\n",
        "if z > z_critical:\n",
        "    print(\"Since Z > Z_critical, we reject the null hypothesis.\")\n",
        "else:\n",
        "    print(\"Since Z ≤ Z_critical, we fail to reject the null hypothesis.\")\n"
      ],
      "metadata": {
        "colab": {
          "base_uri": "https://localhost:8080/"
        },
        "id": "x7rjscw7S8EY",
        "outputId": "1d477561-97ca-4d6f-8f27-efc3e85da36e"
      },
      "execution_count": null,
      "outputs": [
        {
          "output_type": "stream",
          "name": "stdout",
          "text": [
            "\n",
            "Step 4: Make a Decision\n",
            "Since Z ≤ Z_critical, we fail to reject the null hypothesis.\n"
          ]
        }
      ]
    },
    {
      "cell_type": "code",
      "source": [
        "print(\"\\nStep 5: Conclusion\")\n",
        "if z > z_critical:\n",
        "    print(\"Conclusion: There is strong evidence to support the claim that weekly operating costs are higher than the model suggests.\")\n",
        "else:\n",
        "    print(\"Conclusion: There is not enough evidence to support the claim that weekly operating costs are higher than the model suggests.\")\n"
      ],
      "metadata": {
        "colab": {
          "base_uri": "https://localhost:8080/"
        },
        "id": "87AwrEQFS-xE",
        "outputId": "49d3695d-004a-4549-e660-7aefaf59cfac"
      },
      "execution_count": null,
      "outputs": [
        {
          "output_type": "stream",
          "name": "stdout",
          "text": [
            "\n",
            "Step 5: Conclusion\n",
            "Conclusion: There is not enough evidence to support the claim that weekly operating costs are higher than the model suggests.\n"
          ]
        }
      ]
    },
    {
      "cell_type": "code",
      "source": [],
      "metadata": {
        "id": "pFJdjES9TBAv"
      },
      "execution_count": null,
      "outputs": []
    }
  ]
}