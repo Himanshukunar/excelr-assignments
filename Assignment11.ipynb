{
  "nbformat": 4,
  "nbformat_minor": 0,
  "metadata": {
    "colab": {
      "provenance": [],
      "authorship_tag": "ABX9TyOL0ei8hyBQ+aEZCaa+lQYO",
      "include_colab_link": true
    },
    "kernelspec": {
      "name": "python3",
      "display_name": "Python 3"
    },
    "language_info": {
      "name": "python"
    }
  },
  "cells": [
    {
      "cell_type": "markdown",
      "metadata": {
        "id": "view-in-github",
        "colab_type": "text"
      },
      "source": [
        "<a href=\"https://colab.research.google.com/github/Himanshukunar/excelr-assignments/blob/main/Assignment11.ipynb\" target=\"_parent\"><img src=\"https://colab.research.google.com/assets/colab-badge.svg\" alt=\"Open In Colab\"/></a>"
      ]
    },
    {
      "cell_type": "code",
      "source": [
        "import pandas as pd\n",
        "import numpy as np\n",
        "from sklearn.feature_extraction.text import TfidfVectorizer\n",
        "from sklearn.metrics.pairwise import cosine_similarity\n",
        "from sklearn.model_selection import train_test_split\n",
        "from sklearn.metrics import precision_score, recall_score, f1_score\n",
        "\n",
        "df = pd.read_csv(\"/content/anime.csv\")\n",
        "\n",
        "print(\"Dataset Shape:\", df.shape)\n",
        "print(\"Columns:\", df.columns)\n",
        "print(df.head())\n",
        "\n",
        "df = df.dropna(subset=[\"genre\", \"rating\", \"name\"])\n",
        "df.reset_index(drop=True, inplace=True)\n",
        "print(\"After Cleaning:\", df.shape)\n"
      ],
      "metadata": {
        "colab": {
          "base_uri": "https://localhost:8080/"
        },
        "id": "fIKHHVK3zbK7",
        "outputId": "81145b5e-0980-4080-defb-cfc423420c78"
      },
      "execution_count": 2,
      "outputs": [
        {
          "output_type": "stream",
          "name": "stdout",
          "text": [
            "Dataset Shape: (12294, 7)\n",
            "Columns: Index(['anime_id', 'name', 'genre', 'type', 'episodes', 'rating', 'members'], dtype='object')\n",
            "   anime_id                              name  \\\n",
            "0     32281                    Kimi no Na wa.   \n",
            "1      5114  Fullmetal Alchemist: Brotherhood   \n",
            "2     28977                          Gintama°   \n",
            "3      9253                       Steins;Gate   \n",
            "4      9969                     Gintama&#039;   \n",
            "\n",
            "                                               genre   type episodes  rating  \\\n",
            "0               Drama, Romance, School, Supernatural  Movie        1    9.37   \n",
            "1  Action, Adventure, Drama, Fantasy, Magic, Mili...     TV       64    9.26   \n",
            "2  Action, Comedy, Historical, Parody, Samurai, S...     TV       51    9.25   \n",
            "3                                   Sci-Fi, Thriller     TV       24    9.17   \n",
            "4  Action, Comedy, Historical, Parody, Samurai, S...     TV       51    9.16   \n",
            "\n",
            "   members  \n",
            "0   200630  \n",
            "1   793665  \n",
            "2   114262  \n",
            "3   673572  \n",
            "4   151266  \n",
            "After Cleaning: (12017, 7)\n"
          ]
        }
      ]
    },
    {
      "cell_type": "code",
      "source": [
        "\n",
        "df[\"features\"] = df[\"genre\"].fillna('') + \" \" + df[\"type\"].fillna('') + \" \" + df[\"name\"].fillna('')\n",
        "tfidf = TfidfVectorizer(stop_words=\"english\")\n",
        "tfidf_matrix = tfidf.fit_transform(df[\"features\"])\n",
        "\n",
        "print(\"TF-IDF Matrix Shape:\", tfidf_matrix.shape)"
      ],
      "metadata": {
        "colab": {
          "base_uri": "https://localhost:8080/"
        },
        "id": "qA2B01EX1Kz6",
        "outputId": "05636a2f-b8e4-45ef-a915-1f2e2d82b532"
      },
      "execution_count": 3,
      "outputs": [
        {
          "output_type": "stream",
          "name": "stdout",
          "text": [
            "TF-IDF Matrix Shape: (12017, 11831)\n"
          ]
        }
      ]
    },
    {
      "cell_type": "code",
      "source": [
        "\n",
        "cosine_sim = cosine_similarity(tfidf_matrix, tfidf_matrix)\n",
        "\n",
        "def recommend_anime(title, top_n=5):\n",
        "    if title not in df[\"name\"].values:\n",
        "        return f\"❌ Anime '{title}' not found in dataset!\"\n",
        "\n",
        "    idx = df[df[\"name\"] == title].index[0]\n",
        "    sim_scores = list(enumerate(cosine_sim[idx]))\n",
        "    sim_scores = sorted(sim_scores, key=lambda x: x[1], reverse=True)\n",
        "    sim_scores = sim_scores[1:top_n+1]  # exclude the anime itself\n",
        "\n",
        "    anime_indices = [i[0] for i in sim_scores]\n",
        "    return df[\"name\"].iloc[anime_indices].tolist()\n",
        "\n",
        "print(\"\\nRecommendations for 'Naruto':\")\n",
        "print(recommend_anime(\"Naruto\", top_n=5))"
      ],
      "metadata": {
        "colab": {
          "base_uri": "https://localhost:8080/"
        },
        "id": "N6Ni3qaH1PCO",
        "outputId": "76e591fe-d981-42fd-a49d-a53dbdc6a0d0"
      },
      "execution_count": 4,
      "outputs": [
        {
          "output_type": "stream",
          "name": "stdout",
          "text": [
            "\n",
            "Recommendations for 'Naruto':\n",
            "['The Last: Naruto the Movie', 'Naruto: Shippuuden', 'Naruto x UT', 'Boruto: Naruto the Movie', 'Naruto Shippuuden: Sunny Side Battle']\n"
          ]
        }
      ]
    },
    {
      "cell_type": "code",
      "source": [
        "\n",
        "df[\"relevant\"] = df[\"rating\"].apply(lambda x: 1 if x >= 7 else 0)\n",
        "\n",
        "train, test = train_test_split(df, test_size=0.2, random_state=42)\n",
        "\n",
        "y_true = test[\"relevant\"]\n",
        "y_pred = [1 if r >= 7 else 0 for r in test[\"rating\"]]  # baseline\n",
        "\n",
        "precision = precision_score(y_true, y_pred)\n",
        "recall = recall_score(y_true, y_pred)\n",
        "f1 = f1_score(y_true, y_pred)\n",
        "\n",
        "print(\"\\nEvaluation Metrics:\")\n",
        "print(\"Precision:\", precision)\n",
        "print(\"Recall:\", recall)\n",
        "print(\"F1-Score:\", f1)\n",
        "print(\"\\nRecommendations for 'One Piece':\")\n",
        "print(recommend_anime(\"One Piece\", top_n=5))"
      ],
      "metadata": {
        "colab": {
          "base_uri": "https://localhost:8080/"
        },
        "id": "_a8kcgor1TNd",
        "outputId": "0be8d31f-67f8-44d9-ad7f-ce33df82fbe4"
      },
      "execution_count": 6,
      "outputs": [
        {
          "output_type": "stream",
          "name": "stdout",
          "text": [
            "\n",
            "Evaluation Metrics:\n",
            "Precision: 1.0\n",
            "Recall: 1.0\n",
            "F1-Score: 1.0\n",
            "\n",
            "Recommendations for 'One Piece':\n",
            "['One Piece Movie 1', 'One Piece Recap', 'One Piece: Adventure of Nebulandia', 'One Piece: Romance Dawn', 'R.O.D the TV']\n"
          ]
        }
      ]
    },
    {
      "cell_type": "code",
      "source": [],
      "metadata": {
        "id": "LQAr734C1ZDJ"
      },
      "execution_count": null,
      "outputs": []
    }
  ]
}