{
  "nbformat": 4,
  "nbformat_minor": 0,
  "metadata": {
    "colab": {
      "provenance": [],
      "authorship_tag": "ABX9TyMiZi+GhTMPwWBLTpD+q5EL",
      "include_colab_link": true
    },
    "kernelspec": {
      "name": "python3",
      "display_name": "Python 3"
    },
    "language_info": {
      "name": "python"
    }
  },
  "cells": [
    {
      "cell_type": "markdown",
      "metadata": {
        "id": "view-in-github",
        "colab_type": "text"
      },
      "source": [
        "<a href=\"https://colab.research.google.com/github/Himanshukunar/excelr-assignments/blob/main/Assignment2.ipynb\" target=\"_parent\"><img src=\"https://colab.research.google.com/assets/colab-badge.svg\" alt=\"Open In Colab\"/></a>"
      ]
    },
    {
      "cell_type": "code",
      "execution_count": null,
      "metadata": {
        "colab": {
          "base_uri": "https://localhost:8080/"
        },
        "id": "uEXHzux1AC4q",
        "outputId": "9ad7fc28-5221-4d79-eadb-a3e85545a430"
      },
      "outputs": [
        {
          "output_type": "stream",
          "name": "stdout",
          "text": [
            "99% Confidence Interval using sample standard deviation:\n",
            "(1.0902, 1.3871)\n"
          ]
        }
      ],
      "source": [
        "import numpy as np\n",
        "from scipy import stats\n",
        "\n",
        "data = [1.13, 1.55, 1.43, 0.92, 1.25, 1.36, 1.32, 0.85, 1.07, 1.48, 1.20, 1.33, 1.18, 1.22, 1.29]\n",
        "n = len(data)\n",
        "mean = np.mean(data)\n",
        "std_dev = np.std(data, ddof=1)  # sample standard deviation\n",
        "confidence = 0.99\n",
        "\n",
        "t_critical = stats.t.ppf((1 + confidence) / 2, df=n-1)\n",
        "\n",
        "margin_error = t_critical * (std_dev / np.sqrt(n))\n",
        "\n",
        "ci_lower = mean - margin_error\n",
        "ci_upper = mean + margin_error\n",
        "\n",
        "print(\"99% Confidence Interval using sample standard deviation:\")\n",
        "print(f\"({ci_lower:.4f}, {ci_upper:.4f})\")"
      ]
    },
    {
      "cell_type": "code",
      "source": [
        "\n",
        "pop_std_dev = 0.2\n",
        "z_critical = stats.norm.ppf((1 + confidence) / 2)\n",
        "margin_error_known = z_critical * (pop_std_dev / np.sqrt(n))\n",
        "ci_lower_known = mean - margin_error_known\n",
        "ci_upper_known = mean + margin_error_known\n",
        "\n",
        "print(\"\\n99% Confidence Interval using known population standard deviation:\")\n",
        "print(f\"({ci_lower_known:.4f}, {ci_upper_known:.4f})\")"
      ],
      "metadata": {
        "colab": {
          "base_uri": "https://localhost:8080/"
        },
        "id": "P-cB-rJ6AdHg",
        "outputId": "9116b259-243e-43a4-e8a2-09b5edc654a4"
      },
      "execution_count": null,
      "outputs": [
        {
          "output_type": "stream",
          "name": "stdout",
          "text": [
            "\n",
            "99% Confidence Interval using known population standard deviation:\n",
            "(1.1057, 1.3717)\n"
          ]
        }
      ]
    },
    {
      "cell_type": "code",
      "source": [],
      "metadata": {
        "id": "6z_hkxMmAqRl"
      },
      "execution_count": null,
      "outputs": []
    }
  ]
}